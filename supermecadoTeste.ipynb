{
 "cells": [
  {
   "cell_type": "code",
   "execution_count": null,
   "id": "775da36e",
   "metadata": {},
   "outputs": [],
   "source": [
    "\n",
    "\"\"\"\"\"\n",
    "def entradaProduto(): #função para entrada de produtos no recebimento\n",
    "    codigoProduto = []\n",
    "    while codigoProduto != 0:\n",
    "        try:        \n",
    "            codigoProduto = int(input(print(f\"Digite o código do produto: \")))\n",
    "            if codigoProduto == 0:\n",
    "                print(\"TODOS OS PRODUTOS FORAM CADASTRADOS!\")\n",
    "                break\n",
    "        except:\n",
    "            print(\"CÓDIGO DE PRODUTO INVÁLIDO\")           \n",
    "        else:    \n",
    "            try:\n",
    "                nomeProdutos = str(input(print(\"Digite o nome do produto: \")))\n",
    "                codigoProduto.append(nomeProdutos)\n",
    "            except:\n",
    "                print(\"NOME DE PRODUTO INVÁLIDO\")\n",
    "    return\n",
    "\"\"\"\"\"\n",
    "            \n",
    "    "
   ]
  },
  {
   "cell_type": "code",
   "execution_count": null,
   "id": "ebac3373",
   "metadata": {},
   "outputs": [
    {
     "name": "stdout",
     "output_type": "stream",
     "text": [
      "Usuário ou senha incorretos. Tente novamente.\n",
      "Usuário ou senha incorretos. Você tem 1 tentativas restantes.\n",
      "Usuário ou senha incorretos. Você tem 0 tentativas restantes.\n",
      "Número máximo de tentativas excedido. Acesso negado.\n"
     ]
    },
    {
     "ename": "SystemExit",
     "evalue": "",
     "output_type": "error",
     "traceback": [
      "An exception has occurred, use %tb to see the full traceback.\n",
      "\u001b[31mSystemExit\u001b[39m\n"
     ]
    },
    {
     "name": "stderr",
     "output_type": "stream",
     "text": [
      "c:\\Users\\aluno\\AppData\\Local\\Programs\\Python\\Python313\\Lib\\site-packages\\IPython\\core\\interactiveshell.py:3554: UserWarning: To exit: use 'exit', 'quit', or Ctrl-D.\n",
      "  warn(\"To exit: use 'exit', 'quit', or Ctrl-D.\", stacklevel=1)\n"
     ]
    }
   ],
   "source": [
    "# Cadastro de usuários com senha\n",
    "import sys\n",
    "def cadastroUsuarios():\n",
    "    usuarios = {}\n",
    "    while True:\n",
    "        usuario = input(\"Digite o nome do usuário (ou 'sair' para encerrar): \")\n",
    "        if usuario.lower() == 'sair':\n",
    "            break\n",
    "        senha = input(\"Digite a senha do usuário: \")\n",
    "        usuarios[usuario] = senha\n",
    "    return usuarios\n",
    "# Função para verificar se o usuário e senha estão corretos\n",
    "def verificarUsuario(usuarios):\n",
    "    while True:\n",
    "        usuario = input(\"Digite o nome do usuário: \")\n",
    "        senha = input(\"Digite a senha do usuário: \")\n",
    "        if usuario in usuarios and usuarios[usuario] == senha:\n",
    "            print(\"Usuário autenticado com sucesso!\")\n",
    "            return True\n",
    "        else: #forneça 3 tentativas\n",
    "            print(\"Usuário ou senha incorretos. Tente novamente.\")\n",
    "            tentativas = 2\n",
    "            while tentativas > 0:\n",
    "                usuario = input(\"Digite o nome do usuário: \")\n",
    "                senha = input(\"Digite a senha do usuário: \")\n",
    "                if usuario in usuarios and usuarios[usuario] == senha:\n",
    "                    print(\"Usuário autenticado com sucesso!\")\n",
    "                    return True\n",
    "                else:\n",
    "                    tentativas -= 1\n",
    "                    print(f\"Usuário ou senha incorretos. Você tem {tentativas} tentativas restantes.\")\n",
    "            print(\"Número máximo de tentativas excedido. Acesso negado.\")\n",
    "            sys.exit() # encerra o programa se as tentativas forem excedidas\n",
    "        \n",
    "            return False    \n",
    "\n",
    "verificarUsuario(cadastroUsuarios())"
   ]
  },
  {
   "cell_type": "code",
   "execution_count": 22,
   "id": "56a2b60b",
   "metadata": {},
   "outputs": [
    {
     "name": "stdout",
     "output_type": "stream",
     "text": [
      "CÓDIGO DE PRODUTO INVÁLIDO\n",
      "TODOS OS PRODUTOS FORAM CADASTRADOS!\n",
      "\n",
      "Lista de produtos cadastrados:\n"
     ]
    }
   ],
   "source": [
    "def entradaProduto():\n",
    "    produtos = []  # Lista para armazenar os produtos\n",
    "\n",
    "    while True:\n",
    "        try:\n",
    "            codigo = int(input(\"Digite o código do produto (ou 0 para sair): \")) #usuário colocará o código do produto\n",
    "            # Se já existir um produto com o mesmo código, o usuário será avisado\n",
    "            if codigo < 0: # Se o código for negativo, avisa o usuário\n",
    "                print(\"CÓDIGO DE PRODUTO INVÁLIDO\")\n",
    "                continue\n",
    "            for produto in produtos: # Verifica se o código já existe na lista\n",
    "                if produto['codigo'] == codigo:\n",
    "                    print(\"CÓDIGO JÁ CADASTRADO!\")\n",
    "                    # mostra qual produto já foi cadastrado com esse código\n",
    "                    print(f\"Produto já cadastrado: {produto['nome']}\")\n",
    "                    continue\n",
    "            if codigo == 0: # Se o código for 0, encerra o loop\n",
    "                print(\"TODOS OS PRODUTOS FORAM CADASTRADOS!\")\n",
    "                break\n",
    "        except ValueError: #exceção caso o usuário digite algo além de números\n",
    "            print(\"CÓDIGO DE PRODUTO INVÁLIDO\")\n",
    "            continue\n",
    "\n",
    "        nome = input(\"Digite o nome do produto: \").strip()\n",
    "        if not nome:\n",
    "            print(\"NOME DE PRODUTO INVÁLIDO\")\n",
    "            continue\n",
    "        \n",
    "        qntdRecebida = int(input(\"Informe a quantidade recebida: \"))\n",
    "        if not qntdRecebida or qntdRecebida == 0:\n",
    "            print(\"Quantidade inválida\")\n",
    "            continue\n",
    "        # Adiciona o produto como dicionário na lista\n",
    "        \n",
    "        \n",
    "       \n",
    "        try:\n",
    "            estoque_Min = int(input(\"Informe a quantidade mínima de estoque recomendada:\"))\n",
    "            if estoque_Min <= 0:\n",
    "                print(\"QUANTIDADE MÍNIMA INVÁLIDA!\")\n",
    "                continue\n",
    "        except ValueError:\n",
    "            print(\"Por favor, informe um número válido.\")\n",
    "        \n",
    "        try:\n",
    "            estoque_Max = int(input(\"Informe a quantidade máxima de estoque permitida:\"))\n",
    "            if estoque_Max <= 0:\n",
    "                print(\"QUANTIDADE MÁXIMA INVÁLIDA!\")\n",
    "                continue\n",
    "        except ValueError:\n",
    "            print(\"Por favor, informe um número válido.\")\n",
    "            \n",
    "            \n",
    "        produtos.append({\"codigo\": codigo, \"nome\": nome, \"qntdRecebida\": qntdRecebida, \"estoque_Min\": estoque_Min, \"estoque_Max\": estoque_Max})\n",
    "        print(f\"Produto {nome} cadastrado com sucesso!\")\n",
    "\n",
    "    return produtos\n",
    "\n",
    "# Chamada da função e exibição dos produtos\n",
    "lista_produtos = entradaProduto()\n",
    "print(\"\\nLista de produtos cadastrados:\")\n",
    "for i, produto in enumerate(lista_produtos, 1): #Exibe em lista numérica os produtos cadastrados\n",
    "    print(f\"{i}. Código: {produto['codigo']} | Nome: {produto['nome']} | Quantidade Recebida: {produto['qntdRecebida']} | Estoque Mínimo: {produto['estoque_Min']} | Estoque Máximo: {produto['estoque_Max']}\")\n",
    "    \n"
   ]
  },
  {
   "cell_type": "code",
   "execution_count": 18,
   "id": "36610067",
   "metadata": {},
   "outputs": [],
   "source": [
    "#Alerta o usuário caso o estoque mínimo tenha sido atingido ou seja menor que a quantidade recebida\n",
    "for produto in lista_produtos:\n",
    "    if produto['qntdRecebida'] < produto['estoque_Min']:\n",
    "        print(f\"ALERTA: O produto {produto['nome']} está abaixo do estoque mínimo recomendado ({produto['estoque_Min']}).\")\n",
    "    elif produto['qntdRecebida'] > produto['estoque_Max']:\n",
    "        print(f\"ALERTA: O produto {produto['nome']} excede o estoque máximo permitido ({produto['estoque_Max']}). Considere ajustar a quantidade recebida.\")\n",
    "        \n",
    "\n",
    "\n"
   ]
  },
  {
   "cell_type": "code",
   "execution_count": 21,
   "id": "6c6d6549",
   "metadata": {},
   "outputs": [
    {
     "name": "stdout",
     "output_type": "stream",
     "text": [
      "Quantidade inválida ou maior que a quantidade recebida.\n",
      "Entrada inválida. Por favor, insira um número válido.\n",
      "Saída de produtos encerrada.\n"
     ]
    }
   ],
   "source": [
    "# Função para saída de produtos\n",
    "def saidaProduto(produtos):\n",
    "    while True:\n",
    "        try:\n",
    "            codigo = int(input(\"Digite o código do produto para saída (ou 0 para sair): \"))\n",
    "            if codigo == 0:\n",
    "                print(\"Saída de produtos encerrada.\")\n",
    "                break\n",
    "            \n",
    "            produto_encontrado = next((p for p in produtos if p['codigo'] == codigo), None)\n",
    "            if not produto_encontrado:\n",
    "                print(\"Produto não encontrado.\")\n",
    "                continue\n",
    "            \n",
    "            qntd_saida = int(input(f\"Informe a quantidade a ser retirada do produto {produto_encontrado['nome']}: \"))\n",
    "            if qntd_saida <= 0 or qntd_saida > produto_encontrado['qntdRecebida']:\n",
    "                print(\"Quantidade inválida ou maior que a quantidade recebida.\")\n",
    "                continue\n",
    "            \n",
    "            produto_encontrado['qntdRecebida'] -= qntd_saida\n",
    "            print(f\"Saída de {qntd_saida} unidades do produto {produto_encontrado['nome']} realizada com sucesso!\")\n",
    "            # Verifica se o estoque mínimo foi atingido após a saída\n",
    "            if produto_encontrado['qntdRecebida'] < produto_encontrado['estoque_Min']:\n",
    "                print(f\"ALERTA: O produto {produto_encontrado['nome']} está abaixo do estoque mínimo recomendado ({produto_encontrado['estoque_Min']}).\")\n",
    "            # Gera uma lista de produtos removidos e outra com estoque atualizado\n",
    "            print(\"\\nProdutos atualizados:\") # Exibe os produtos com estoque atualizado\n",
    "            for p in produtos:\n",
    "                print(f\"Código: {p['codigo']} | Nome: {p['nome']} | Quantidade Atual: {p['qntdRecebida']}\")\n",
    "            # Exibe a lista de produtos removidos com nome, código e quantidade retirada\n",
    "            produtos_removidos = [p for p in produtos if p['qntdRecebida'] == 0]\n",
    "            \n",
    "            \n",
    "            \n",
    "        except ValueError:\n",
    "            print(\"Entrada inválida. Por favor, insira um número válido.\")\n",
    "            \n",
    "saidaProduto(lista_produtos)"
   ]
  },
  {
   "cell_type": "code",
   "execution_count": null,
   "id": "554811fc",
   "metadata": {},
   "outputs": [],
   "source": []
  }
 ],
 "metadata": {
  "kernelspec": {
   "display_name": "Python 3",
   "language": "python",
   "name": "python3"
  },
  "language_info": {
   "codemirror_mode": {
    "name": "ipython",
    "version": 3
   },
   "file_extension": ".py",
   "mimetype": "text/x-python",
   "name": "python",
   "nbconvert_exporter": "python",
   "pygments_lexer": "ipython3",
   "version": "3.13.2"
  }
 },
 "nbformat": 4,
 "nbformat_minor": 5
}
